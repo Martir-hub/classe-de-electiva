{
 "cells": [
  {
   "cell_type": "code",
   "execution_count": null,
   "id": "0876b2a8",
   "metadata": {
    "vscode": {
     "languageId": "sql"
    }
   },
   "outputs": [],
   "source": [
    "--crear base de datos\n",
    "\n",
    "CREATE DATABASE uni;\n"
   ]
  },
  {
   "cell_type": "code",
   "execution_count": null,
   "id": "84d9dea3",
   "metadata": {
    "vscode": {
     "languageId": "sql"
    }
   },
   "outputs": [],
   "source": [
    "--crear tabla Estudiante y insertar datos\n",
    "\n",
    "use uni;\n",
    "CREATE TABLE Estudiante (\n",
    "    ID_Std INT(11) NOT null AUTO_INCREMENT PRIMARY KEY,\n",
    "    Nombres VARCHAR(60) Not null,\n",
    "    Apellidos VARCHAR(60) not null,\n",
    "    fecha_n DATE not null,\n",
    "    ID_Direccion INT,\n",
    "    correo_electronico VARCHAR(100) not null,\n",
    "    telefono numeric (11) not null ,\n",
    "    FOREIGN KEY (ID_Direccion) REFERENCES Direccion(ID_Direccion)\n",
    ");\n",
    "\n",
    "    --insertar datos\n",
    "\n",
    "INSERT INTO Estudiante (ID_Std,Nombres, Apellidos, fecha_n ,ID_Direccion, correo_electronico,telefono)VALUES\n",
    "(1,'Carlos', 'López', '1999-10-22',1,'nombrefalso1@gmail.com','04244359507'),\n",
    "(2,'María', 'Rodríguez', '2001-03-08',2, 'nombrefalso22@hotmail.com', '04123234567');\n",
    "\n",
    "\n"
   ]
  },
  {
   "cell_type": "code",
   "execution_count": null,
   "id": "e9882cbf",
   "metadata": {
    "vscode": {
     "languageId": "sql"
    }
   },
   "outputs": [],
   "source": [
    "--crear tabla Curso y insertar datos \n",
    "\n",
    "use uni;\n",
    "CREATE TABLE Curso (\n",
    "    ID_Curso INT(11) not null auto_increment PRIMARY KEY,\n",
    "    Nombre_curso VARCHAR(60) not null,\n",
    "    creditos  VARCHAR(3) not null,\n",
    "    descripcion  VARCHAR(300) not null\n",
    ");\n",
    "\n",
    "--insertar valor \n",
    "\n",
    "INSERT INTO Curso (Nombre_curso, creditos, descripcion) VALUES\n",
    "('Programación', '3', 'Curso de programacion.'),\n",
    "('Matemáticas', '4', 'curso de matematicas.');"
   ]
  },
  {
   "cell_type": "code",
   "execution_count": null,
   "id": "88c777fe",
   "metadata": {
    "vscode": {
     "languageId": "sql"
    }
   },
   "outputs": [],
   "source": [
    "--crear tabla Inscripcion y relacionarla con la tabla Estudiante y Curso \n",
    "use uni\n",
    "CREATE TABLE Inscripcion (\n",
    "    ID_Inscripcion INT(11) not null AUTO_INCREMENT PRIMARY KEY ,\n",
    "    ID_Std INT not null,\n",
    "    ID_Curso INT not null,\n",
    "    Fecha_Inscripcion DATE not null,\n",
    "    FOREIGN KEY (ID_Std) REFERENCES Estudiante(ID_Std),\n",
    "    FOREIGN KEY (ID_Curso) REFERENCES Curso(ID_Curso)\n",
    ");\n",
    "\n",
    "--insertar valor \n",
    "\n",
    "INSERT INTO Inscripcion (ID_Inscripcion, ID_Std, ID_Curso,Fecha_Inscripcion) VALUES\n",
    "('5', '1', '1.','2025-01-03'),\n",
    "('6', '2', '2','2025-02-04');\n",
    "\n"
   ]
  },
  {
   "cell_type": "code",
   "execution_count": null,
   "id": "50154680",
   "metadata": {
    "vscode": {
     "languageId": "sql"
    }
   },
   "outputs": [],
   "source": [
    "--crear tabla Estado\n",
    "\n",
    "CREATE TABLE Estado (\n",
    "    ID_Estado INT PRIMARY KEY,\n",
    "    Estado VARCHAR(50)\n",
    ");\n",
    "\n",
    "--insertar valor\n",
    "\n",
    "INSERT INTO Estado (ID_Estado, Estado) VALUES\n",
    "(1, 'Carabobo'),\n",
    "(2, 'Carabobo'); \n"
   ]
  },
  {
   "cell_type": "code",
   "execution_count": null,
   "id": "b452f805",
   "metadata": {
    "vscode": {
     "languageId": "sql"
    }
   },
   "outputs": [],
   "source": [
    "--crear tabla ciudad\n",
    "\n",
    "CREATE TABLE Ciudad (\n",
    "    ID_Ciudad INT PRIMARY KEY,\n",
    "    Ciudad VARCHAR(50),\n",
    "    ID_Estado INT,\n",
    "    FOREIGN KEY (ID_Estado) REFERENCES Estado(ID_Estado)\n",
    ");\n",
    "\n",
    "--insertar valor\n",
    "\n",
    "INSERT INTO Ciudad (ID_Ciudad, Ciudad, ID_Estado) VALUES\n",
    "(1, 'Valencia', 1),\n",
    "(2, 'Los Guayos', 2);\n"
   ]
  },
  {
   "cell_type": "code",
   "execution_count": null,
   "id": "e17e9443",
   "metadata": {
    "vscode": {
     "languageId": "sql"
    }
   },
   "outputs": [],
   "source": [
    "--crear tabla direccion\n",
    "\n",
    "CREATE TABLE Direccion (\n",
    "    ID_Direccion INT PRIMARY KEY,\n",
    "    calle VARCHAR(100),\n",
    "    ID_Ciudad INT,\n",
    "    FOREIGN KEY (ID_Ciudad) REFERENCES Ciudad(ID_Ciudad)\n",
    ");\n",
    "\n",
    "--insertar valor\n",
    "\n",
    "INSERT INTO Direccion (ID_Direccion, calle, ID_Ciudad) VALUES\n",
    "(1, 'J', 1),\n",
    "(2, 'C', 2);\n"
   ]
  }
 ],
 "metadata": {
  "language_info": {
   "name": "python"
  }
 },
 "nbformat": 4,
 "nbformat_minor": 5
}
